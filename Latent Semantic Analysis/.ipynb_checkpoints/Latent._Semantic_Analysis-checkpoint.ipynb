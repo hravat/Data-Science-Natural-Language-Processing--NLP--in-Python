{
 "cells": [
  {
   "cell_type": "code",
   "execution_count": 241,
   "metadata": {},
   "outputs": [],
   "source": [
    "import nltk\n",
    "import numpy as np\n",
    "from matplotlib import pyplot as plt\n",
    "\n",
    "from nltk.stem import WordNetLemmatizer\n",
    "from nltk.corpus import stopwords\n",
    "\n",
    "from sklearn.decomposition import TruncatedSVD\n",
    "from sklearn.manifold import TSNE\n",
    "from sklearn.metrics.pairwise import cosine_similarity"
   ]
  },
  {
   "cell_type": "code",
   "execution_count": 242,
   "metadata": {},
   "outputs": [],
   "source": [
    "stopwords=stopwords.words('english')\n",
    "wordnet_lemmatizer = WordNetLemmatizer()"
   ]
  },
  {
   "cell_type": "code",
   "execution_count": 243,
   "metadata": {},
   "outputs": [],
   "source": [
    "def my_tokenizer(s):\n",
    "    s = s.lower() # downcase\n",
    "    tokens = nltk.tokenize.word_tokenize(s) # split string into words (tokens)\n",
    "    tokens = [t for t in tokens if len(t) > 2] # remove short words, they're probably not useful\n",
    "    tokens = [wordnet_lemmatizer.lemmatize(t) for t in tokens] # put words into base form\n",
    "    tokens = [t for t in tokens if t not in stopwords] # remove stopwords\n",
    "    tokens = [t for t in tokens if not any(c.isdigit() for c in t)] # remove any digits, i.e. \"3rd edition\"\n",
    "    return tokens"
   ]
  },
  {
   "cell_type": "code",
   "execution_count": 244,
   "metadata": {},
   "outputs": [],
   "source": [
    "def tokens_to_vector(tokens,word_index_map):\n",
    "    x = np.zeros(len(word_index_map)) # last element is for the label\n",
    "    for t in tokens:\n",
    "        i = word_index_map[t]\n",
    "        x[i] += 1\n",
    "    return x"
   ]
  },
  {
   "cell_type": "code",
   "execution_count": 257,
   "metadata": {},
   "outputs": [],
   "source": [
    "def LSA_fun(path,VD=10,model='SVD'):\n",
    "    \n",
    "    titles = [line.rstrip() for line in open(path)]\n",
    "   \n",
    "\t\n",
    "\t# create a word-to-index map so that we can create our word-frequency vectors later\n",
    "    # let's also save the tokenized versions so we don't have to tokenize again later\n",
    "    word_index_map = {}\n",
    "    current_index = 0\n",
    "    all_tokens = []\n",
    "    all_titles = []\n",
    "    index_word_map = []\n",
    "    error_count = 0\n",
    "\t\n",
    "\t\n",
    "\t\n",
    "    for title in titles:\n",
    "        try:\n",
    "            title = title.encode('ascii', 'ignore').decode('utf-8') # this will throw exception if bad characters\n",
    "            all_titles.append(title)\n",
    "            tokens = my_tokenizer(title)\n",
    "            all_tokens.append(tokens)\n",
    "            for token in tokens:\n",
    "                if token not in word_index_map:\n",
    "                    word_index_map[token] = current_index\n",
    "                    current_index += 1\n",
    "                    index_word_map.append(token)\n",
    "        except Exception as e:\n",
    "            title\n",
    "\t\t\n",
    "\t\t\n",
    "\t\t\n",
    "    print(\"Number of errors parsing file:\", error_count, \"number of lines in file:\", len(titles))\n",
    "    if error_count == len(titles):\n",
    "        print(\"There is no data to do anything with! Quitting...\")\n",
    "        #exit()\n",
    "        \n",
    "    \n",
    "\t\t\n",
    "    N = len(all_tokens)\n",
    "    D = len(word_index_map)\n",
    "    X = np.zeros((D, N)) # terms will go along rows, documents along columns\n",
    "    i = 0\n",
    "\t\n",
    "\t\n",
    "    for tokens in all_tokens:\n",
    "        X[:,i] = tokens_to_vector(tokens,word_index_map)\n",
    "        i += 1\n",
    "\n",
    "    if model=='SVD':\n",
    "        svd = TruncatedSVD(n_components=2)\n",
    "        Z = svd.fit_transform(X)\n",
    "    elif model=='TSNE':\n",
    "        tsne = TSNE(n_components=2, n_iter=300)\n",
    "        Z = tsne.fit_transform(X)\n",
    "    \n",
    "    rand_int=np.random.randint(0,len(Z))\n",
    "    #rand_int=0\n",
    "    Zrand=np.expand_dims(Z[rand_int,],0)\n",
    "    Zrand=np.expand_dims(Z[0,],0)\n",
    "    cos = []\n",
    "    for z in Z:\n",
    "        cos.append(cosine_similarity(np.expand_dims(z,0),Zrand))\n",
    "    \n",
    "    cos=np.squeeze(cos)\n",
    "    disp_ind=np.argsort(cos)[len(cos)-VD:len(cos),]\n",
    "    disp=cos[disp_ind]\n",
    "    \n",
    "    plt.scatter(Z[disp_ind,0], Z[disp_ind,1])\n",
    "    for i in disp_ind:\n",
    "        plt.annotate(s=index_word_map[i], xy=(Z[i,0], Z[i,1]))    \n",
    "    plt.title(index_word_map[rand_int])\n",
    "    plt.show()\n",
    "    \n",
    "    return word_index_map"
   ]
  },
  {
   "cell_type": "code",
   "execution_count": 258,
   "metadata": {},
   "outputs": [
    {
     "name": "stdout",
     "output_type": "stream",
     "text": [
      "Number of errors parsing file: 0 number of lines in file: 2373\n"
     ]
    },
    {
     "data": {
      "image/png": "[encoded data removed]",
      "text/plain": [
       "<Figure size 432x288 with 1 Axes>"
      ]
     },
     "metadata": {
      "needs_background": "light"
     },
     "output_type": "display_data"
    }
   ],
   "source": [
    "Z=LSA_fun('all_book_titles.txt',VD=5)"
   ]
  },
  {
   "cell_type": "code",
   "execution_count": 238,
   "metadata": {},
   "outputs": [
    {
     "name": "stdout",
     "output_type": "stream",
     "text": [
      "Number of errors parsing file: 0 number of lines in file: 2373\n"
     ]
    },
    {
     "data": {
      "image/png": "[encoded data removed]",
      "text/plain": [
       "<Figure size 432x288 with 1 Axes>"
      ]
     },
     "metadata": {
      "needs_background": "light"
     },
     "output_type": "display_data"
    }
   ],
   "source": [
    "Z=LSA_fun(path='all_book_titles.txt',VD=5,model='TSNE')"
   ]
  },
  {
   "cell_type": "code",
   "execution_count": 256,
   "metadata": {},
   "outputs": [
    {
     "name": "stdout",
     "output_type": "stream",
     "text": [
      "Number of errors parsing file: 0 number of lines in file: 5862\n"
     ]
    },
    {
     "data": {
      "image/png": "[encoded data removed]",
      "text/plain": [
       "<Figure size 432x288 with 1 Axes>"
      ]
     },
     "metadata": {
      "needs_background": "light"
     },
     "output_type": "display_data"
    }
   ],
   "source": [
    "Z = LSA_fun(path='lotr_ttt.txt',VD=5)"
   ]
  },
  {
   "cell_type": "code",
   "execution_count": null,
   "metadata": {},
   "outputs": [],
   "source": []
  }
 ],
 "metadata": {
  "kernelspec": {
   "display_name": "Python 3",
   "language": "python",
   "name": "python3"
  },
  "language_info": {
   "codemirror_mode": {
    "name": "ipython",
    "version": 3
   },
   "file_extension": ".py",
   "mimetype": "text/x-python",
   "name": "python",
   "nbconvert_exporter": "python",
   "pygments_lexer": "ipython3",
   "version": "3.7.0"
  }
 },
 "nbformat": 4,
 "nbformat_minor": 2
}
