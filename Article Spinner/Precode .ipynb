{
 "cells": [
  {
   "cell_type": "code",
   "execution_count": 78,
   "metadata": {},
   "outputs": [],
   "source": [
    "import nltk\n",
    "import numpy as np\n",
    "\n",
    "from nltk.stem import WordNetLemmatizer\n",
    "from nltk.corpus import stopwords\n",
    "from nltk import ngrams\n",
    "\n",
    "from sklearn.utils import shuffle\n",
    "from sklearn.linear_model import LogisticRegression\n",
    "from sklearn.metrics import confusion_matrix\n",
    "\n",
    "import seaborn as sns\n",
    "\n",
    "from bs4 import BeautifulSoup\n",
    "import glob\n",
    "import collections\n",
    "import copy"
   ]
  },
  {
   "cell_type": "code",
   "execution_count": 2,
   "metadata": {},
   "outputs": [],
   "source": [
    "def category_read(v_category):\n",
    "    positive_reviews = BeautifulSoup(open(v_category).read())\n",
    "    positive_reviews = positive_reviews.findAll('review_text')\n",
    "    return positive_reviews"
   ]
  },
  {
   "cell_type": "code",
   "execution_count": 3,
   "metadata": {},
   "outputs": [],
   "source": [
    "# Make a list of calibration images\n",
    "path = glob.glob('sorted_data_acl//sorted_data_acl//*')"
   ]
  },
  {
   "cell_type": "code",
   "execution_count": 4,
   "metadata": {},
   "outputs": [],
   "source": [
    "positive_reviews = []\n",
    "for idx, fname in enumerate(path):\n",
    "    #print(fname)\n",
    "    positive_reviews.append(category_read(fname+'//positive.review'))"
   ]
  },
  {
   "cell_type": "code",
   "execution_count": 5,
   "metadata": {},
   "outputs": [
    {
     "name": "stdout",
     "output_type": "stream",
     "text": [
      "4000\n"
     ]
    }
   ],
   "source": [
    "flat_list = [item for sublist in positive_reviews for item in sublist]\n",
    "print(len(flat_list))"
   ]
  },
  {
   "cell_type": "code",
   "execution_count": 6,
   "metadata": {},
   "outputs": [],
   "source": [
    "trigram_dict = collections.defaultdict(dict)"
   ]
  },
  {
   "cell_type": "code",
   "execution_count": 7,
   "metadata": {},
   "outputs": [],
   "source": [
    "trigram_list=[]\n",
    "n=3\n",
    "for review in flat_list:\n",
    "    for text in review:\n",
    "        trigrams = ngrams(text.split(), n)\n",
    "        for i in trigrams:\n",
    "            trigram_list.append(i)"
   ]
  },
  {
   "cell_type": "code",
   "execution_count": 8,
   "metadata": {},
   "outputs": [
    {
     "name": "stdout",
     "output_type": "stream",
     "text": [
      "536690\n"
     ]
    }
   ],
   "source": [
    "print(len(trigram_list))"
   ]
  },
  {
   "cell_type": "code",
   "execution_count": 9,
   "metadata": {},
   "outputs": [
    {
     "data": {
      "text/plain": [
       "'Sphere'"
      ]
     },
     "execution_count": 9,
     "metadata": {},
     "output_type": "execute_result"
    }
   ],
   "source": [
    "trigram_list[0][0]"
   ]
  },
  {
   "cell_type": "code",
   "execution_count": 79,
   "metadata": {},
   "outputs": [],
   "source": [
    "trigram_dict = collections.defaultdict(dict)\n",
    "for trigram in trigram_list:\n",
    "    d_lev_2 = {}\n",
    "    if ((trigram[0],trigram[2])) in trigram_dict:\n",
    "        d_lev_2 = trigram_dict[(trigram[0],trigram[2])]\n",
    "        if trigram[1] in d_lev_2:\n",
    "            d_lev_2[trigram[1]] = d_lev_2[trigram[1]]+1 \n",
    "            trigram_dict[(trigram[0],trigram[2])]=d_lev_2    \n",
    "        else:\n",
    "            d_lev_2[trigram[1]]=1\n",
    "            trigram_dict[(trigram[0],trigram[2])]=d_lev_2\n",
    "    else:\n",
    "        d_lev_2[trigram[1]]=1\n",
    "        trigram_dict[(trigram[0],trigram[2])]=d_lev_2\n",
    "        "
   ]
  },
  {
   "cell_type": "code",
   "execution_count": 80,
   "metadata": {},
   "outputs": [
    {
     "data": {
      "text/plain": [
       "334399"
      ]
     },
     "execution_count": 80,
     "metadata": {},
     "output_type": "execute_result"
    }
   ],
   "source": [
    "len(trigram_dict)"
   ]
  },
  {
   "cell_type": "code",
   "execution_count": 84,
   "metadata": {},
   "outputs": [],
   "source": [
    "trigram_prob = copy.deepcopy(trigram_dict)\n",
    "for key,value in trigram_prob.items():\n",
    "    inner_dict = dict()\n",
    "    inner_dict=value\n",
    "    value_tot=0\n",
    "    for key_inner,value_inner in inner_dict.items():\n",
    "        value_tot=value_inner+value_tot\n",
    "    for key_inner,value_inner in inner_dict.items():\n",
    "        inner_dict[key_inner]=inner_dict[key_inner]/value_tot\n",
    "    trigram_prob[key]= inner_dict"
   ]
  },
  {
   "cell_type": "code",
   "execution_count": 176,
   "metadata": {},
   "outputs": [],
   "source": [
    "def word_ret(key,middle_word):\n",
    "    word_dic=trigram_prob[key]\n",
    "    key_list=[]\n",
    "    value_list=[]\n",
    "    for key, value in word_dic.items():\n",
    "        key_list.append(key)\n",
    "        value_list.append(value)\n",
    "    probs = value_list\n",
    "    keys = key_list\n",
    "    if not keys:\n",
    "        choice=middle_word\n",
    "    else:   \n",
    "        choice_list = np.random.choice(keys, 1, replace=True, p=probs)\n",
    "        choice = ''.join(choice_list)\n",
    "    return choice"
   ]
  },
  {
   "cell_type": "code",
   "execution_count": 177,
   "metadata": {},
   "outputs": [
    {
     "name": "stdout",
     "output_type": "stream",
     "text": [
      "wearing\n"
     ]
    }
   ],
   "source": [
    "print(word_ret(('was','the'),'a'))"
   ]
  },
  {
   "cell_type": "code",
   "execution_count": 204,
   "metadata": {},
   "outputs": [],
   "source": [
    "def fn_article_spinner(review):\n",
    "    print ('ORiginal')\n",
    "    print(review)\n",
    "    trigram_list=[]\n",
    "    sentence=''\n",
    "    cnt=0\n",
    "    for text in review:\n",
    "        trigrams = ngrams(text.split(), 3)\n",
    "        for i in trigrams:\n",
    "            if cnt == 0:\n",
    "                sentence=i[0]\n",
    "                cnt=1\n",
    "            a=list(i)\n",
    "            a[1]=word_ret((a[0],a[2]),a[1])\n",
    "            last_word = a[2]\n",
    "            trigram_list.append(a)\n",
    "            sentence = sentence+' '+a[1]\n",
    "    sentence=sentence+' '+last_word        \n",
    "    print ('Spun Review')\n",
    "    print (sentence)"
   ]
  },
  {
   "cell_type": "code",
   "execution_count": 207,
   "metadata": {},
   "outputs": [
    {
     "name": "stdout",
     "output_type": "stream",
     "text": [
      "ORiginal\n",
      "<review_text>\n",
      "`Ben-Hur' released in '59 is an inspirational tale of betrayal and revenge, love and endurance, forgiveness and redemption played out amidst the backdrop of the last years of Jesus Christ's earthly ministry.\n",
      "\n",
      "Plot: Judah Ben-Hur (Charleton Heston), a wealthy Jew living in the Holy Land is falsely accused of crimes against Rome and sent off to spend the rest of his days as a slave on a Roman galley. His estate is confiscated, his Mother and sister thrown into prison. His accuser is a Roman officer named Messala (Stephen Boyd), Judah's best friend since childhood. \n",
      "\n",
      "Judah survives the hardships of slavery, gains his freedom and eventually becomes the adopted son of a powerful and wealthy Roman Reagent. Providence certainly appears to be guiding Judah's path. However Judah's heart is filled with hate for Messala. He cannot forgive or forget what he and Rome has done to him and his family. He returns home in an attempt to restore what he has unjustly lost and avenge himself against his old friend.\n",
      "\n",
      "Winner of 11 Academy Awards 'Ben-Hur' is truly an epic among epics. The massive backgrounds and sets will take your breath away, but the true beauty and strength of this film is found in the story it tells and the incredible cast that brings this story to life. The most memorable scenes in `Ben-Hur' are the intimate moments, the quiet conversations, the longing glances. My personal favorite moment is when Judah finds himself falling hopelessly in love with Esther (Haya Haraeet) one of his house slaves. While granting her freedom so she may be free to leave his service and marry, he places her slave ring on his own finger as a symbol of his undying love for her.\n",
      "\n",
      "If you don't have a copy of Ben-Hur in your DVD library, you don't have a DVD library\n",
      "</review_text>\n",
      "Spun Review\n",
      "`Ben-Hur' released in color is an eerie tale of \"Once and I love and endurance, forgiveness and Depp played out in the destruction of the coming frontier of Jesus Christ's earthly ministry. Plot: Judah Ben-Hur (Charleton Heston), a wealthy Jew living in the conspiracy. Land is falsely accused of arguments against Witherspoon, and laying it to press the imposition of his home as a fly on a Roman galley. His job is sure his secretary) and sister thrown into prison. His research is a standart officer named Messala (Stephen Boyd), Judah's best friend since childhood. Judah survives the concepts of slavery, gains his head and eventually sacrificing the adopted son (since a row, and wealthy Roman Reagent. Providence certainly need to be guiding Judah's path. However Judah's heart is unfamiliar with hate for Messala. He cannot forgive or \"Remember what he and he has anything to use except his men. He returns home in any urge to stop what he has been lost and shows himself and his old friend. Winner of 11 Academy Awards 'Ben-Hur' is about an epic among epics. The massive odyssey and it will stretch your breath away, but the new beauty and richness of the book is written at the player, also works of has incredible cast that reading this wisdom to date. The most memorable scenes in `Ben-Hur' are the worst moments, the quiet humor, the longing glances. My personal favorite moment is the Judah finds himself falling hopelessly in conjunction with Esther (Haya Haraeet) one of the house slaves. While granting her win so you may be able to escape his life and obsession he accepts her slave ring on your own risk, as a host of his undying love with preprocessing. If you won't have a pot of participating in my video allows you definitely know no DVD library\n"
     ]
    }
   ],
   "source": [
    "a=fn_article_spinner(flat_list[np.random.randint(0,len(flat_list))])"
   ]
  }
 ],
 "metadata": {
  "kernelspec": {
   "display_name": "Python 3",
   "language": "python",
   "name": "python3"
  },
  "language_info": {
   "codemirror_mode": {
    "name": "ipython",
    "version": 3
   },
   "file_extension": ".py",
   "mimetype": "text/x-python",
   "name": "python",
   "nbconvert_exporter": "python",
   "pygments_lexer": "ipython3",
   "version": "3.6.6"
  }
 },
 "nbformat": 4,
 "nbformat_minor": 2
}
